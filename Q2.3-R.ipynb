{
 "cells": [
  {
   "cell_type": "code",
   "execution_count": 9,
   "metadata": {},
   "outputs": [],
   "source": [
    "X1 = read.csv(\"datafile/X1.csv\")\n",
    "X2 = read.csv(\"datafile/X2.csv\")\n",
    "X3 = read.csv(\"datafile/X3.csv\")\n",
    "X4 = read.csv(\"datafile/X4.csv\")\n",
    "X5 = read.csv(\"datafile/X5.csv\")\n",
    "X6 = read.csv(\"datafile/X6.csv\")\n",
    "X7 = read.csv(\"datafile/X7.csv\")\n",
    "X8 = read.csv(\"datafile/X8.csv\")\n",
    "X9 = read.csv(\"datafile/X9.csv\")\n",
    "X10 = read.csv(\"datafile/X10.csv\")\n",
    "\n",
    "SM = read.csv(\"datafile/SM.csv\")\n",
    "TC = read.csv(\"datafile/TC.csv\")\n",
    "options(repr.matrix.max.cols=150, repr.matrix.max.rows=200)"
   ]
  },
  {
   "cell_type": "code",
   "execution_count": 10,
   "metadata": {},
   "outputs": [],
   "source": [
    "SM <- data.matrix(SM)\n",
    "SM <- SM[, colnames(SM) != \"X\"]\n",
    "\n",
    "TC <- data.matrix(TC)\n",
    "TC <- TC[, colnames(TC) != \"X\"]"
   ]
  },
  {
   "cell_type": "code",
   "execution_count": 11,
   "metadata": {},
   "outputs": [],
   "source": [
    "# Setting up rhos\n",
    "r <- seq(from = 0, to = 1, by = 0.05)\n",
    "\n",
    "# Setting up constant variables\n",
    "N <- 240\n",
    "nsrcs <- 6\n",
    "x1 <- 21\n",
    "x2 <- 21\n",
    "V <- 441"
   ]
  },
  {
   "cell_type": "code",
   "execution_count": 12,
   "metadata": {},
   "outputs": [],
   "source": [
    "#Lasso Regression Function\n",
    "LassoReg <- function(X, thr) {  \n",
    "    X <- data.matrix(X)\n",
    "    X <- X[, colnames(X) != \"X\"]\n",
    "    for ( k in 1 : ( x1*x2 ) ) {\n",
    "        A <- Ao + step *( t(TC)%*%(X[ , k] - (TC%*%Ao ) ) )\n",
    "        A <- (1/(1+thr ) ) * (sign(A)*pmax(replicate(nsrcs, 0 ) , abs(A) - thr ) )\n",
    "        for ( i in 1:10 ) {\n",
    "            Ao <- A\n",
    "            A <- Ao+step *( t(TC)%*%(X[ , k] - (TC%*%Ao ) ) )\n",
    "            A <- (1/(1+thr)) * (sign(A)*pmax(replicate(nsrcs , 0 ) , abs(A) -thr ) )\n",
    "        }\n",
    "        Alr[ , k] <- A\n",
    "    }\n",
    "    return (Alr)\n",
    "}"
   ]
  },
  {
   "cell_type": "code",
   "execution_count": 13,
   "metadata": {},
   "outputs": [],
   "source": [
    "SMSE <- c()\n",
    "\n",
    "# Find average MSE for 21 different rhos\n",
    "for (rho in r) {\n",
    "\n",
    "    # Setting up variables for Lasso Regression\n",
    "    step <- 1/(norm(TC%*%t(TC) ) * 1.1 )\n",
    "    thr <- rho * N * step\n",
    "    Ao <- matrix( 0 , nsrcs , 1 )\n",
    "    A <- matrix( 0 , nsrcs , 1 )\n",
    "    Alr <- matrix( 0 , nsrcs , x1*x2 )\n",
    "\n",
    "    \n",
    "    # Finding Alr for all different standardised Xs (10 realisations)\n",
    "    Alr1 <- LassoReg(X1, thr)\n",
    "    Alr2 <- LassoReg(X2, thr)\n",
    "    Alr3 <- LassoReg(X3, thr)\n",
    "    Alr4 <- LassoReg(X4, thr)\n",
    "    Alr5 <- LassoReg(X5, thr)\n",
    "    Alr6 <- LassoReg(X6, thr)\n",
    "    Alr7 <- LassoReg(X7, thr)\n",
    "    Alr8 <- LassoReg(X8, thr)\n",
    "    Alr9 <- LassoReg(X9, thr)\n",
    "    Alr10 <- LassoReg(X10, thr)\n",
    "\n",
    "\n",
    "\n",
    "    \n",
    "    alr_list <- list(Alr1, Alr2, Alr3, Alr4, Alr5, Alr6, Alr7, Alr8, Alr9, Alr10)\n",
    "    X_list <- list(X1, X2, X3, X4, X5, X6, X7, X8, X9, X10)\n",
    "\n",
    "    # Find average MSE over 10 realisations\n",
    "    sum_MSE = 0\n",
    "    for (i in (1:10)) {\n",
    "        Alr <- alr_list[[i]]\n",
    "        X <- X_list[[i]]\n",
    "        X <- data.matrix(X)\n",
    "        X <- X[,-1]\n",
    "        D_lr <- (X %*% t(Alr))\n",
    "        sum_MSE <- sum_MSE + (sum(sum((X - (D_lr %*% Alr))^2)) / (N*V))\n",
    "    }\n",
    "\n",
    "    avg_SMSE <- sum_MSE / 10\n",
    "    SMSE <- append(SMSE, avg_SMSE)\n",
    "}"
   ]
  },
  {
   "cell_type": "code",
   "execution_count": 14,
   "metadata": {},
   "outputs": [],
   "source": [
    "write.csv(SMSE,file=\"datafile/smse.csv\", row.names=FALSE)"
   ]
  },
  {
   "cell_type": "code",
   "execution_count": 15,
   "metadata": {},
   "outputs": [],
   "source": [
    "min_rho <- 0.7\n",
    "thr <- min_rho * N * step\n",
    "X <- read.csv(\"datafile/X.csv\")\n",
    "X <- data.matrix(X)\n",
    "X <- X[,-1]\n",
    "Alr <- LassoReg(X, thr)\n",
    "D_lr <- (X %*% t(Alr))"
   ]
  },
  {
   "cell_type": "code",
   "execution_count": 16,
   "metadata": {},
   "outputs": [],
   "source": [
    "write.csv(Alr,file=\"datafile/alr.csv\", row.names=FALSE)\n",
    "write.csv(D_lr,file=\"datafile/dlr.csv\", row.names=FALSE)"
   ]
  },
  {
   "cell_type": "code",
   "execution_count": null,
   "metadata": {},
   "outputs": [],
   "source": []
  }
 ],
 "metadata": {
  "kernelspec": {
   "display_name": "R",
   "language": "R",
   "name": "ir"
  },
  "language_info": {
   "codemirror_mode": "r",
   "file_extension": ".r",
   "mimetype": "text/x-r-source",
   "name": "R",
   "pygments_lexer": "r",
   "version": "4.0.3"
  }
 },
 "nbformat": 4,
 "nbformat_minor": 4
}
