{
 "cells": [
  {
   "cell_type": "code",
   "execution_count": 1,
   "metadata": {},
   "outputs": [],
   "source": [
    "X = read.csv(\"datafile/X_Q2_5.csv\")\n",
    "Z = read.csv(\"datafile/Z.csv\")"
   ]
  },
  {
   "cell_type": "code",
   "execution_count": 2,
   "metadata": {},
   "outputs": [],
   "source": [
    "# Setting up rhos\n",
    "r <- seq(from = 0, to = 1, by = 0.05)\n",
    "\n",
    "# Setting up constant variables\n",
    "N <- 240\n",
    "nsrcs <- 6\n",
    "x1 <- 21\n",
    "x2 <- 21\n",
    "V <- 441"
   ]
  },
  {
   "cell_type": "code",
   "execution_count": 3,
   "metadata": {},
   "outputs": [],
   "source": [
    "X <- data.matrix(X)\n",
    "X <- X[, colnames(X) != \"X\"]\n",
    "\n",
    "Z <- data.matrix(Z)\n",
    "Z <- Z[, colnames(Z) != \"X\"]"
   ]
  },
  {
   "cell_type": "code",
   "execution_count": 4,
   "metadata": {},
   "outputs": [],
   "source": [
    "#Lasso Regression Function\n",
    "LassoReg <- function(X, thr) {  \n",
    "    X <- data.matrix(X)\n",
    "    X <- X[, colnames(X) != \"X\"]\n",
    "    for ( k in 1 : ( x1*x2 ) ) {\n",
    "        A <- Ao + step *( t(Z)%*%(X[ , k] - (Z%*%Ao ) ) )\n",
    "        A <- (1/(1+thr ) ) * (sign(A)*pmax(replicate(nsrcs, 0 ) , abs(A) - thr ) )\n",
    "        for ( i in 1:10 ) {\n",
    "            Ao <- A\n",
    "            A <- Ao+step *( t(Z)%*%(X[ , k] - (Z%*%Ao ) ) )\n",
    "            A <- (1/(1+thr)) * (sign(A)*pmax(replicate(nsrcs , 0 ) , abs(A) -thr ) )\n",
    "        }\n",
    "        Alr[ , k] <- A\n",
    "    }\n",
    "    return (Alr)\n",
    "}"
   ]
  },
  {
   "cell_type": "code",
   "execution_count": 5,
   "metadata": {},
   "outputs": [],
   "source": [
    "rho <- 0.001\n",
    "step <- 1/(norm(Z%*%t(Z) ) * 1.1 )\n",
    "thr <- rho * N * step\n",
    "Ao <- matrix( 0 , nsrcs , 1 )\n",
    "A <- matrix( 0 , nsrcs , 1 )\n",
    "Alr <- matrix( 0 , nsrcs , x1*x2 )\n",
    "\n",
    "Apcr <- LassoReg(X, thr)\n",
    "Dpcr <- (X %*% t(Apcr))"
   ]
  },
  {
   "cell_type": "code",
   "execution_count": 6,
   "metadata": {},
   "outputs": [],
   "source": [
    "write.csv(Dpcr,file=\"datafile/dpcr.csv\", row.names=FALSE)\n",
    "write.csv(Apcr,file=\"datafile/apcr.csv\", row.names=FALSE)"
   ]
  },
  {
   "cell_type": "code",
   "execution_count": null,
   "metadata": {},
   "outputs": [],
   "source": []
  }
 ],
 "metadata": {
  "kernelspec": {
   "display_name": "R",
   "language": "R",
   "name": "ir"
  },
  "language_info": {
   "codemirror_mode": "r",
   "file_extension": ".r",
   "mimetype": "text/x-r-source",
   "name": "R",
   "pygments_lexer": "r",
   "version": "4.0.3"
  }
 },
 "nbformat": 4,
 "nbformat_minor": 4
}
