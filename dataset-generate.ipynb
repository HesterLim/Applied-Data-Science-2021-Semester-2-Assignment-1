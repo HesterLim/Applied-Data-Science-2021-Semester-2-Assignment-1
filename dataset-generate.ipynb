{
 "cells": [
  {
   "cell_type": "code",
   "execution_count": 2,
   "metadata": {},
   "outputs": [],
   "source": [
    "#For both questions and code given in LR Section\n",
    "N = 240\n",
    "V = 441\n",
    "x1 = 21\n",
    "x2 = 21\n",
    "# value of p can ve selected between 0 and 1\n",
    "# the number of sources \n",
    "nsrcs = 6\n",
    "# X is the standardized generated dataset"
   ]
  },
  {
   "cell_type": "markdown",
   "metadata": {},
   "source": [
    "##  Q1 : Synthetic dataset generation, data preprocessing & data visualization "
   ]
  },
  {
   "cell_type": "code",
   "execution_count": 3,
   "metadata": {},
   "outputs": [],
   "source": [
    "# Construct a matrix TC of size 240 x 6 using three vecotrs AV, IV, duration of ones\n",
    "# onsetes arrival vector\n",
    "AV = [0, 20, 0, 0, 0, 0]\n",
    "# increment vector\n",
    "IV = [30, 45, 60, 40, 40, 40]\n",
    "# duration of ones \n",
    "ones = [15, 20, 25, 15, 20, 25]"
   ]
  },
  {
   "cell_type": "code",
   "execution_count": 6,
   "metadata": {},
   "outputs": [
    {
     "data": {
      "text/plain": [
       "[0, 30, 220]"
      ]
     },
     "execution_count": 6,
     "metadata": {},
     "output_type": "execute_result"
    }
   ],
   "source": [
    "# Sample First TC using three vectors as AV :IV : N-20 and ones stay active for 15 samples\n",
    "TC1 = [AV[0], IV[0], N-20]\n",
    "TC1"
   ]
  },
  {
   "cell_type": "markdown",
   "metadata": {},
   "source": [
    "## Resources"
   ]
  },
  {
   "cell_type": "markdown",
   "metadata": {},
   "source": [
    "- https://scikit-learn.org/stable/modules/generated/sklearn.datasets.make_regression.html\n",
    "- https://github.com/scikit-learn/scikit-learn/blob/2beed5584/sklearn/datasets/_samples_generator.py#L479\n",
    "- https://machinelearningmastery.com/generate-test-datasets-python-scikit-learn/\n",
    "- https://github.com/scikit-learn/scikit-learn"
   ]
  },
  {
   "cell_type": "code",
   "execution_count": null,
   "metadata": {},
   "outputs": [],
   "source": []
  }
 ],
 "metadata": {
  "kernelspec": {
   "display_name": "Python 3",
   "language": "python",
   "name": "python3"
  },
  "language_info": {
   "codemirror_mode": {
    "name": "ipython",
    "version": 3
   },
   "file_extension": ".py",
   "mimetype": "text/x-python",
   "name": "python",
   "nbconvert_exporter": "python",
   "pygments_lexer": "ipython3",
   "version": "3.7.5"
  }
 },
 "nbformat": 4,
 "nbformat_minor": 2
}
