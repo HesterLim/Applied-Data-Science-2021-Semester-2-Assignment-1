{
 "cells": [
  {
   "cell_type": "code",
   "execution_count": 1,
   "metadata": {},
   "outputs": [],
   "source": [
    "# Read Files \n",
    "X1 = read.csv(\"datafile/X1.csv\")\n",
    "X2 = read.csv(\"datafile/X2.csv\")\n",
    "X3 = read.csv(\"datafile/X3.csv\")\n",
    "X4 = read.csv(\"datafile/X4.csv\")\n",
    "X5 = read.csv(\"datafile/X5.csv\")\n",
    "X6 = read.csv(\"datafile/X6.csv\")\n",
    "X7 = read.csv(\"datafile/X7.csv\")\n",
    "X8 = read.csv(\"datafile/X8.csv\")\n",
    "X9 = read.csv(\"datafile/X9.csv\")\n",
    "X10 = read.csv(\"datafile/X10.csv\")\n",
    "\n",
    "SM = read.csv(\"datafile/SM.csv\")\n",
    "TC = read.csv(\"datafile/TC.csv\")\n",
    "options(repr.matrix.max.cols=150, repr.matrix.max.rows=200)"
   ]
  },
  {
   "cell_type": "code",
   "execution_count": 2,
   "metadata": {},
   "outputs": [],
   "source": [
    "# Put SM and TC into a matrix \n",
    "SM <- data.matrix(SM)\n",
    "SM <- SM[, colnames(SM) != \"X\"]\n",
    "\n",
    "TC <- data.matrix(TC)\n",
    "TC <- TC[, colnames(TC) != \"X\"]"
   ]
  },
  {
   "cell_type": "code",
   "execution_count": 3,
   "metadata": {},
   "outputs": [],
   "source": [
    "# Define Constant Variables\n",
    "N <- 240\n",
    "nsrcs <- 6\n",
    "x1 <- 21\n",
    "x2 <- 21\n",
    "V <- 441"
   ]
  },
  {
   "cell_type": "code",
   "execution_count": 4,
   "metadata": {},
   "outputs": [],
   "source": [
    "# create 21 values of rho incrementing by 0.05 from 0 to 1\n",
    "r <- seq(from = 0, to = 1, by = 0.05)"
   ]
  },
  {
   "cell_type": "code",
   "execution_count": 5,
   "metadata": {},
   "outputs": [],
   "source": [
    "# Solve Lasso Regression Function\n",
    "solveLR <- function(X, thr) {  \n",
    "    X <- data.matrix(X)\n",
    "    X <- X[, colnames(X) != \"X\"]\n",
    "    for ( k in 1 : ( x1*x2 ) ) {\n",
    "        A <- Ao + step *( t(TC)%*%(X[ , k] - (TC%*%Ao ) ) )\n",
    "        A <- (1/(1+thr ) ) * (sign(A)*pmax(replicate(nsrcs, 0 ) , abs(A) - thr ) )\n",
    "        for ( i in 1:10 ) {\n",
    "            Ao <- A\n",
    "            A <- Ao+step *( t(TC)%*%(X[ , k] - (TC%*%Ao ) ) )\n",
    "            A <- (1/(1+thr)) * (sign(A)*pmax(replicate(nsrcs , 0 ) , abs(A) -thr ) )\n",
    "        }\n",
    "        Alr[ , k] <- A\n",
    "    }\n",
    "    return (Alr)\n",
    "}"
   ]
  },
  {
   "cell_type": "code",
   "execution_count": 6,
   "metadata": {},
   "outputs": [],
   "source": [
    "SMSE <- c()\n",
    "\n",
    "# Obtain average MSE for 21 different rhos\n",
    "for (rho in r) {\n",
    "\n",
    "    # Variables needed for Lasso Regression \n",
    "    step <- 1/(norm(TC%*%t(TC) ) * 1.1 )\n",
    "    thr <- rho * N * step\n",
    "    Ao <- matrix( 0 , nsrcs , 1 )\n",
    "    A <- matrix( 0 , nsrcs , 1 )\n",
    "    Alr <- matrix( 0 , nsrcs , x1*x2 )\n",
    "\n",
    "    \n",
    "    # Finding Alr for 10 standardised Xs\n",
    "    Alr1 <- solveLR(X1, thr)\n",
    "    Alr2 <- solveLR(X2, thr)\n",
    "    Alr3 <- solveLR(X3, thr)\n",
    "    Alr4 <- solveLR(X4, thr)\n",
    "    Alr5 <- solveLR(X5, thr)\n",
    "    Alr6 <- solveLR(X6, thr)\n",
    "    Alr7 <- solveLR(X7, thr)\n",
    "    Alr8 <- solveLR(X8, thr)\n",
    "    Alr9 <- solveLR(X9, thr)\n",
    "    Alr10 <- solveLR(X10, thr)\n",
    "\n",
    "\n",
    "\n",
    "    \n",
    "    alr_list <- list(Alr1, Alr2, Alr3, Alr4, Alr5, Alr6, Alr7, Alr8, Alr9, Alr10)\n",
    "    X_list <- list(X1, X2, X3, X4, X5, X6, X7, X8, X9, X10)\n",
    "\n",
    "    # Get the average MSE over 10 standardised Xs (realizations)\n",
    "    sum_MSE = 0\n",
    "    for (i in (1:10)) {\n",
    "        Alr <- alr_list[[i]]\n",
    "        X <- X_list[[i]]\n",
    "        X <- data.matrix(X)\n",
    "        X <- X[,-1]\n",
    "        D_lr <- (X %*% t(Alr))\n",
    "        sum_MSE <- sum_MSE + (sum(sum((X - (D_lr %*% Alr))^2)) / (N*V))\n",
    "    }\n",
    "\n",
    "    avg_SMSE <- sum_MSE / 10\n",
    "    SMSE <- append(SMSE, avg_SMSE)\n",
    "}"
   ]
  },
  {
   "cell_type": "code",
   "execution_count": 7,
   "metadata": {},
   "outputs": [],
   "source": [
    "write.csv(SMSE,file=\"datafile/smse.csv\", row.names=FALSE)"
   ]
  },
  {
   "cell_type": "code",
   "execution_count": 8,
   "metadata": {},
   "outputs": [],
   "source": [
    "# Get estimates of A and D from X using Lasso Regression with the optimal rho = 0.7 \n",
    "rho_min <- 0.7\n",
    "thr <- rho_min * N * step\n",
    "X <- read.csv(\"datafile/X.csv\")\n",
    "X <- data.matrix(X)\n",
    "X <- X[,-1]\n",
    "Alr <- solveLR(X, thr)\n",
    "D_lr <- (X %*% t(Alr))"
   ]
  },
  {
   "cell_type": "code",
   "execution_count": 9,
   "metadata": {},
   "outputs": [],
   "source": [
    "write.csv(Alr,file=\"datafile/alr.csv\", row.names=FALSE)\n",
    "write.csv(D_lr,file=\"datafile/dlr.csv\", row.names=FALSE)"
   ]
  },
  {
   "cell_type": "code",
   "execution_count": null,
   "metadata": {},
   "outputs": [],
   "source": []
  }
 ],
 "metadata": {
  "kernelspec": {
   "display_name": "R",
   "language": "R",
   "name": "ir"
  },
  "language_info": {
   "codemirror_mode": "r",
   "file_extension": ".r",
   "mimetype": "text/x-r-source",
   "name": "R",
   "pygments_lexer": "r",
   "version": "4.0.3"
  }
 },
 "nbformat": 4,
 "nbformat_minor": 4
}
