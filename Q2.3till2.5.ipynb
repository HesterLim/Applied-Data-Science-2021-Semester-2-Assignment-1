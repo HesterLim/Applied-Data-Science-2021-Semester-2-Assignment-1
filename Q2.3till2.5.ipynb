{
 "cells": [
  {
   "cell_type": "code",
   "execution_count": 1,
   "metadata": {},
   "outputs": [],
   "source": [
    "import pandas as pd\n",
    "import numpy as np\n",
    "import matplotlib.pyplot as plt\n",
    "import seaborn as sns\n",
    "import random\n",
    "from random import gauss\n",
    "import math\n",
    "from scipy.stats import pearsonr\n",
    "\n",
    "pd.set_option('display.max_rows', None)\n",
    "pd.set_option('display.max_columns', None)"
   ]
  },
  {
   "cell_type": "code",
   "execution_count": 2,
   "metadata": {},
   "outputs": [],
   "source": [
    "avg_smse = pd.read_csv(\"smse.csv\")\n",
    "Arr = pd.read_csv(\"Arr.csv\")\n",
    "Drr = pd.read_csv(\"Drr.csv\")\n",
    "Alr = pd.read_csv(\"alr.csv\")\n",
    "Dlr = pd.read_csv(\"dlr.csv\")\n",
    "TC = pd.read_csv(\"TC.csv\")\n",
    "SM = pd.read_csv(\"SM.csv\")\n",
    "\n",
    "NUM_SOURCE = 6\n",
    "X1 = 21\n",
    "X2 = 21\n",
    "V = 441\n",
    "N = 240\n",
    "\n",
    "rho = []\n",
    "r = 0.0\n",
    "for i in range(X1):\n",
    "    rho.append(round(r,2))\n",
    "    r += 0.05\n",
    "    \n",
    "avg_smse['rho'] = rho\n",
    "avg_smse = avg_smse.set_index('rho')"
   ]
  },
  {
   "cell_type": "markdown",
   "metadata": {},
   "source": [
    "### MSE started to increase when rho = 0.7"
   ]
  },
  {
   "cell_type": "code",
   "execution_count": 3,
   "metadata": {},
   "outputs": [
    {
     "data": {
      "text/plain": [
       "<AxesSubplot:xlabel='rho'>"
      ]
     },
     "execution_count": 3,
     "metadata": {},
     "output_type": "execute_result"
    },
    {
     "data": {
      "image/png": "[encoded data removed]",
      "text/plain": [
       "<Figure size 432x288 with 1 Axes>"
      ]
     },
     "metadata": {
      "needs_background": "light"
     },
     "output_type": "display_data"
    }
   ],
   "source": [
    "sns.lineplot(data = avg_smse)"
   ]
  }
 ],
 "metadata": {
  "kernelspec": {
   "display_name": "Python 3 (Anaconda 3)",
   "language": "python",
   "name": "python3"
  },
  "language_info": {
   "codemirror_mode": {
    "name": "ipython",
    "version": 3
   },
   "file_extension": ".py",
   "mimetype": "text/x-python",
   "name": "python",
   "nbconvert_exporter": "python",
   "pygments_lexer": "ipython3",
   "version": "3.8.2"
  }
 },
 "nbformat": 4,
 "nbformat_minor": 4
}
